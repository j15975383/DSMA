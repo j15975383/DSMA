{
  "cells": [
    {
      "cell_type": "markdown",
      "metadata": {
        "id": "view-in-github",
        "colab_type": "text"
      },
      "source": [
        "<a href=\"https://colab.research.google.com/github/j15975383/DSMA/blob/main/DSMAv2_Goemotions.ipynb\" target=\"_parent\"><img src=\"https://colab.research.google.com/assets/colab-badge.svg\" alt=\"Open In Colab\"/></a>"
      ]
    },
    {
      "cell_type": "code",
      "execution_count": null,
      "metadata": {
        "colab": {
          "background_save": true,
          "base_uri": "https://localhost:8080/"
        },
        "id": "1hOL5BLvLrZm",
        "outputId": "d816dd2e-c75c-4ae0-cbcc-13c7a49ee168"
      },
      "outputs": [
        {
          "name": "stdout",
          "output_type": "stream",
          "text": [
            "fatal: destination path 'GoEmotions-pytorch' already exists and is not an empty directory.\n"
          ]
        }
      ],
      "source": [
        "#!git clone https://github.com/google-research/google-research.git\n",
        "!git clone https://github.com/monologg/GoEmotions-pytorch.git\n",
        "\n",
        "#https://github.com/prateekjoshi565/Fine-Tuning-BERT/blob/master/Fine_Tuning_BERT_for_Spam_Classification.ipynb\n",
        "#https://www.analyticsvidhya.com/blog/2020/07/transfer-learning-for-nlp-fine-tuning-bert-for-text-classification/\n",
        "#https://curiousily.com/posts/sentiment-analysis-with-bert-and-hugging-face-using-pytorch-and-python/"
      ]
    },
    {
      "cell_type": "code",
      "execution_count": null,
      "metadata": {
        "colab": {
          "background_save": true
        },
        "id": "Aec9J2qCbhPI",
        "outputId": "4cf06bb7-6add-4bc9-be31-469c8e8267bc"
      },
      "outputs": [
        {
          "name": "stdout",
          "output_type": "stream",
          "text": [
            "Requirement already satisfied: transformers in /usr/local/lib/python3.7/dist-packages (4.15.0)\n",
            "Requirement already satisfied: numpy>=1.17 in /usr/local/lib/python3.7/dist-packages (from transformers) (1.19.5)\n",
            "Requirement already satisfied: tqdm>=4.27 in /usr/local/lib/python3.7/dist-packages (from transformers) (4.62.3)\n",
            "Requirement already satisfied: requests in /usr/local/lib/python3.7/dist-packages (from transformers) (2.23.0)\n",
            "Requirement already satisfied: pyyaml>=5.1 in /usr/local/lib/python3.7/dist-packages (from transformers) (6.0)\n",
            "Requirement already satisfied: regex!=2019.12.17 in /usr/local/lib/python3.7/dist-packages (from transformers) (2019.12.20)\n",
            "Requirement already satisfied: huggingface-hub<1.0,>=0.1.0 in /usr/local/lib/python3.7/dist-packages (from transformers) (0.4.0)\n",
            "Requirement already satisfied: sacremoses in /usr/local/lib/python3.7/dist-packages (from transformers) (0.0.47)\n",
            "Requirement already satisfied: tokenizers<0.11,>=0.10.1 in /usr/local/lib/python3.7/dist-packages (from transformers) (0.10.3)\n",
            "Requirement already satisfied: importlib-metadata in /usr/local/lib/python3.7/dist-packages (from transformers) (4.10.0)\n",
            "Requirement already satisfied: packaging>=20.0 in /usr/local/lib/python3.7/dist-packages (from transformers) (21.3)\n",
            "Requirement already satisfied: filelock in /usr/local/lib/python3.7/dist-packages (from transformers) (3.4.2)\n",
            "Requirement already satisfied: typing-extensions>=3.7.4.3 in /usr/local/lib/python3.7/dist-packages (from huggingface-hub<1.0,>=0.1.0->transformers) (3.10.0.2)\n",
            "Requirement already satisfied: pyparsing!=3.0.5,>=2.0.2 in /usr/local/lib/python3.7/dist-packages (from packaging>=20.0->transformers) (3.0.6)\n",
            "Requirement already satisfied: zipp>=0.5 in /usr/local/lib/python3.7/dist-packages (from importlib-metadata->transformers) (3.7.0)\n",
            "Requirement already satisfied: idna<3,>=2.5 in /usr/local/lib/python3.7/dist-packages (from requests->transformers) (2.10)\n",
            "Requirement already satisfied: certifi>=2017.4.17 in /usr/local/lib/python3.7/dist-packages (from requests->transformers) (2021.10.8)\n",
            "Requirement already satisfied: urllib3!=1.25.0,!=1.25.1,<1.26,>=1.21.1 in /usr/local/lib/python3.7/dist-packages (from requests->transformers) (1.24.3)\n",
            "Requirement already satisfied: chardet<4,>=3.0.2 in /usr/local/lib/python3.7/dist-packages (from requests->transformers) (3.0.4)\n",
            "Requirement already satisfied: six in /usr/local/lib/python3.7/dist-packages (from sacremoses->transformers) (1.15.0)\n",
            "Requirement already satisfied: click in /usr/local/lib/python3.7/dist-packages (from sacremoses->transformers) (7.1.2)\n",
            "Requirement already satisfied: joblib in /usr/local/lib/python3.7/dist-packages (from sacremoses->transformers) (1.1.0)\n"
          ]
        }
      ],
      "source": [
        "!pip install transformers #--force-reinstall"
      ]
    },
    {
      "cell_type": "code",
      "execution_count": null,
      "metadata": {
        "colab": {
          "background_save": true
        },
        "id": "1dWfIKuPNLLf"
      },
      "outputs": [],
      "source": [
        "import numpy as np\n",
        "import pandas as pd\n",
        "import torch\n",
        "import torch.nn as nn\n",
        "from sklearn.model_selection import train_test_split\n",
        "from sklearn.metrics import classification_report\n",
        "\n",
        "import transformers\n",
        "from transformers import AutoModel, BertTokenizer\n",
        "\n",
        "# specify GPU\n",
        "#device = torch.device(\"cuda:0\" if torch.cuda.is_available() else \"cpu\")"
      ]
    },
    {
      "cell_type": "code",
      "execution_count": null,
      "metadata": {
        "colab": {
          "background_save": true,
          "base_uri": "https://localhost:8080/"
        },
        "id": "vhN6-g7mUgY9",
        "outputId": "b70e2c4c-9a16-4682-b3d2-0900a15942f9"
      },
      "outputs": [
        {
          "name": "stdout",
          "output_type": "stream",
          "text": [
            "There are 1 GPU(s) available.\n",
            "We will use the GPU: Tesla T4\n"
          ]
        }
      ],
      "source": [
        "import torch\n",
        "\n",
        "# If there's a GPU available...\n",
        "if torch.cuda.is_available():    \n",
        "\n",
        "    # Tell PyTorch to use the GPU.    \n",
        "    device = torch.device(\"cuda\")\n",
        "\n",
        "    print('There are %d GPU(s) available.' % torch.cuda.device_count())\n",
        "\n",
        "    print('We will use the GPU:', torch.cuda.get_device_name(0))\n",
        "\n",
        "# If not...\n",
        "else:\n",
        "    print('No GPU available, using the CPU instead.')\n",
        "    device = torch.device(\"cpu\")\n"
      ]
    },
    {
      "cell_type": "code",
      "execution_count": null,
      "metadata": {
        "colab": {
          "background_save": true
        },
        "id": "CJWzLExFLva0"
      },
      "outputs": [],
      "source": [
        "import pandas as pd\n",
        "\n",
        "train = pd.read_csv(\"/content/GoEmotions-pytorch/data/group/train.tsv\",sep = '\\t', header = None)\n",
        "labels = pd.read_csv(\"/content/GoEmotions-pytorch/data/group/labels.txt\")\n",
        "test = pd.read_csv(\"/content/GoEmotions-pytorch/data/group/test.tsv\",sep = '\\t',header = None)"
      ]
    },
    {
      "cell_type": "code",
      "execution_count": null,
      "metadata": {
        "colab": {
          "background_save": true,
          "base_uri": "https://localhost:8080/"
        },
        "id": "ZOi0-n3mOY-n",
        "outputId": "8bd6978b-6783-4aa5-f399-ad140ab71dc8"
      },
      "outputs": [
        {
          "name": "stdout",
          "output_type": "stream",
          "text": [
            "<class 'pandas.core.frame.DataFrame'>\n",
            "RangeIndex: 43410 entries, 0 to 43409\n",
            "Data columns (total 3 columns):\n",
            " #   Column  Non-Null Count  Dtype \n",
            "---  ------  --------------  ----- \n",
            " 0   0       43410 non-null  object\n",
            " 1   1       43410 non-null  object\n",
            " 2   2       43410 non-null  object\n",
            "dtypes: object(3)\n",
            "memory usage: 1017.5+ KB\n",
            "None\n",
            "                                                   0  1        2\n",
            "0  My favourite food is anything I didn't have to...  2  eebbqej\n",
            "1  Now if he does off himself, everyone will thin...  2  ed00q6i\n",
            "2                     WHY THE FUCK IS BAYLESS ISOING  1  eezlygj\n",
            "3                        To make her feel threatened  1  ed7ypvh\n",
            "4                             Dirty Southern Wankers  1  ed0bdzj\n"
          ]
        },
        {
          "data": {
            "text/plain": [
              "3        0.350518\n",
              "2        0.295393\n",
              "1        0.187353\n",
              "0        0.088874\n",
              "1,3      0.018083\n",
              "0,3      0.017853\n",
              "2,3      0.013660\n",
              "1,2      0.011126\n",
              "0,1      0.009145\n",
              "0,2      0.006957\n",
              "0,1,3    0.000622\n",
              "1,2,3    0.000230\n",
              "0,1,2    0.000092\n",
              "0,2,3    0.000092\n",
              "Name: 1, dtype: float64"
            ]
          },
          "execution_count": null,
          "metadata": {},
          "output_type": "execute_result"
        }
      ],
      "source": [
        "print(train.info())\n",
        "print(train.head())\n",
        "train[1].value_counts(normalize = True)\n",
        "#Here we found out that there are cases where there are multilabels"
      ]
    },
    {
      "cell_type": "code",
      "execution_count": null,
      "metadata": {
        "colab": {
          "background_save": true,
          "base_uri": "https://localhost:8080/"
        },
        "id": "GT6OhwKwOsbw",
        "outputId": "76202bf7-9011-4eec-fc89-695d0191fb83"
      },
      "outputs": [
        {
          "data": {
            "text/plain": [
              "1    0.651677\n",
              "0    0.348323\n",
              "Name: 1, dtype: float64"
            ]
          },
          "execution_count": null,
          "metadata": {},
          "output_type": "execute_result"
        }
      ],
      "source": [
        "#And so we remove the multilabels for simplistics sake\n",
        "filter = train[1].str.len()>1\n",
        "train_single = train[~filter]\n",
        "filter1 = train_single[1]=='1'\n",
        "filter2 = train_single[1]=='3'\n",
        "train_single = train_single[filter1|filter2]\n",
        "filter = train_single[1]=='1'\n",
        "train_single[1][filter] = 0\n",
        "filter = train_single[1]=='3'\n",
        "train_single[1][filter] = 1\n",
        "\n",
        "train_single[1].value_counts(normalize = True)"
      ]
    },
    {
      "cell_type": "code",
      "execution_count": null,
      "metadata": {
        "colab": {
          "background_save": true,
          "base_uri": "https://localhost:8080/"
        },
        "id": "UF0gwFQpM1bS",
        "outputId": "47b7b870-bcd3-4c59-eaeb-868ca798f85d"
      },
      "outputs": [
        {
          "data": {
            "text/plain": [
              "<bound method NDFrame.head of                                                        0  1        2\n",
              "2                         WHY THE FUCK IS BAYLESS ISOING  0  eezlygj\n",
              "3                            To make her feel threatened  0  ed7ypvh\n",
              "4                                 Dirty Southern Wankers  0  ed0bdzj\n",
              "6      Yes I heard abt the f bombs! That has to be wh...  1  ee3b6wu\n",
              "7      We need more boards and to create a bit more s...  1  ef4qmod\n",
              "...                                                  ... ..      ...\n",
              "43400  [NAME] was half-blood but it wasn't a smart id...  0  eerlirr\n",
              "43405  Added you mate well I’ve just got the bow and ...  1  edsb738\n",
              "43407  What are you talking about? Anything bad that ...  0  efgbhks\n",
              "43408            More like a baptism, with sexy results!  1  ed1naf8\n",
              "43409                                    Enjoy the ride!  1  eecwmbq\n",
              "\n",
              "[23349 rows x 3 columns]>"
            ]
          },
          "execution_count": null,
          "metadata": {},
          "output_type": "execute_result"
        }
      ],
      "source": [
        "train_single.head"
      ]
    },
    {
      "cell_type": "code",
      "execution_count": null,
      "metadata": {
        "colab": {
          "background_save": true,
          "base_uri": "https://localhost:8080/"
        },
        "id": "Giis0uYtP__j",
        "outputId": "f36bf53a-8174-458e-f750-8be233bddba0"
      },
      "outputs": [
        {
          "data": {
            "text/plain": [
              "1    0.635186\n",
              "0    0.364814\n",
              "Name: 1, dtype: float64"
            ]
          },
          "execution_count": null,
          "metadata": {},
          "output_type": "execute_result"
        }
      ],
      "source": [
        "#We also do this for the test set\n",
        "filter = test[1].str.len()>1\n",
        "test_single = test[~filter]\n",
        "filter1 = test_single[1]=='1'\n",
        "filter2 = test_single[1]=='3'\n",
        "test_single = test_single[filter1|filter2]\n",
        "filter = test_single[1]=='1'\n",
        "test_single[1][filter] = 0\n",
        "filter = test_single[1]=='3'\n",
        "test_single[1][filter] = 1\n",
        "test_single[1].value_counts(normalize = True)"
      ]
    },
    {
      "cell_type": "code",
      "execution_count": null,
      "metadata": {
        "colab": {
          "background_save": true,
          "base_uri": "https://localhost:8080/"
        },
        "id": "x6izONJ3_Ywj",
        "outputId": "15d8e431-7e11-40ab-f010-9154510baa82"
      },
      "outputs": [
        {
          "name": "stdout",
          "output_type": "stream",
          "text": [
            "<class 'pandas.core.frame.DataFrame'>\n",
            "Int64Index: 23349 entries, 2 to 43409\n",
            "Data columns (total 3 columns):\n",
            " #   Column  Non-Null Count  Dtype \n",
            "---  ------  --------------  ----- \n",
            " 0   0       23349 non-null  object\n",
            " 1   1       23349 non-null  int64 \n",
            " 2   2       23349 non-null  object\n",
            "dtypes: int64(1), object(2)\n",
            "memory usage: 729.7+ KB\n",
            "None\n",
            "<class 'pandas.core.frame.DataFrame'>\n",
            "Int64Index: 2933 entries, 0 to 5425\n",
            "Data columns (total 3 columns):\n",
            " #   Column  Non-Null Count  Dtype \n",
            "---  ------  --------------  ----- \n",
            " 0   0       2933 non-null   object\n",
            " 1   1       2933 non-null   int64 \n",
            " 2   2       2933 non-null   object\n",
            "dtypes: int64(1), object(2)\n",
            "memory usage: 91.7+ KB\n",
            "None\n"
          ]
        }
      ],
      "source": [
        "#torch.tensor requires the labels to be ints instead of strs\n",
        "#we hereby change the datatype of the labels\n",
        "train_single[1] = train_single[1].apply(lambda x: int(x))\n",
        "test_single[1] = test_single[1].apply(lambda x: int(x))\n",
        "print(train_single.info())\n",
        "print(test_single.info())"
      ]
    },
    {
      "cell_type": "code",
      "execution_count": null,
      "metadata": {
        "colab": {
          "background_save": true,
          "base_uri": "https://localhost:8080/"
        },
        "id": "mRvAiPB6Q8b7",
        "outputId": "a729f8ac-012b-4e3a-970a-cd1356c09b05"
      },
      "outputs": [
        {
          "name": "stderr",
          "output_type": "stream",
          "text": [
            "Some weights of the model checkpoint at bert-base-cased were not used when initializing BertModel: ['cls.predictions.transform.LayerNorm.bias', 'cls.predictions.transform.LayerNorm.weight', 'cls.predictions.transform.dense.weight', 'cls.seq_relationship.bias', 'cls.seq_relationship.weight', 'cls.predictions.transform.dense.bias', 'cls.predictions.decoder.weight', 'cls.predictions.bias']\n",
            "- This IS expected if you are initializing BertModel from the checkpoint of a model trained on another task or with another architecture (e.g. initializing a BertForSequenceClassification model from a BertForPreTraining model).\n",
            "- This IS NOT expected if you are initializing BertModel from the checkpoint of a model that you expect to be exactly identical (initializing a BertForSequenceClassification model from a BertForSequenceClassification model).\n"
          ]
        }
      ],
      "source": [
        "tokenizer = BertTokenizer.from_pretrained(\"bert-base-cased\")\n",
        "bert = AutoModel.from_pretrained(\"bert-base-cased\",return_dict = False)"
      ]
    },
    {
      "cell_type": "code",
      "execution_count": null,
      "metadata": {
        "colab": {
          "background_save": true,
          "base_uri": "https://localhost:8080/"
        },
        "id": "eZE36wUGRmtE",
        "outputId": "755b3f57-ab40-4680-8095-4024a4443af9"
      },
      "outputs": [
        {
          "name": "stdout",
          "output_type": "stream",
          "text": [
            "{'input_ids': [[101, 146, 4819, 1128, 9954, 4314, 102, 0, 0], [101, 1192, 1127, 1176, 170, 1711, 1106, 1143, 102]], 'attention_mask': [[1, 1, 1, 1, 1, 1, 1, 0, 0], [1, 1, 1, 1, 1, 1, 1, 1, 1]]}\n"
          ]
        },
        {
          "data": {
            "text/plain": [
              "['[CLS] I hate you Anakin [SEP] [PAD] [PAD]',\n",
              " '[CLS] You were like a brother to me [SEP]']"
            ]
          },
          "execution_count": null,
          "metadata": {},
          "output_type": "execute_result"
        }
      ],
      "source": [
        "#just to test things out\n",
        "text = [\"I hate you Anakin\",\"You were like a brother to me\"]\n",
        "tokens = tokenizer.batch_encode_plus(text,padding = True, return_token_type_ids=False)\n",
        "print(tokens)\n",
        "tokens['input_ids']\n",
        "tokenizer.batch_decode(tokens['input_ids'])\n",
        "#or we can use\n",
        "#tokenizer.decode(tokens['input_ids'][0])\n",
        "#to find the decoded first sentence"
      ]
    },
    {
      "cell_type": "code",
      "execution_count": null,
      "metadata": {
        "colab": {
          "background_save": true,
          "base_uri": "https://localhost:8080/",
          "height": 265
        },
        "id": "8q7Pvjo1Sjmc",
        "outputId": "223067c7-4850-438b-e1f9-bf4aa50720a1"
      },
      "outputs": [
        {
          "data": {
            "image/png": "[encoded data removed]",
            "text/plain": [
              "<Figure size 432x288 with 1 Axes>"
            ]
          },
          "metadata": {},
          "output_type": "display_data"
        }
      ],
      "source": [
        "seq_len = [len(i.split()) for i in train[0]]\n",
        "\n",
        "pd.Series(seq_len).hist(bins = 30)\n",
        "#since most of them fall well within 30, we'll make the max_seq_length =30\n",
        "max_seq_len = 30"
      ]
    },
    {
      "cell_type": "code",
      "execution_count": null,
      "metadata": {
        "colab": {
          "background_save": true
        },
        "id": "Z3lH0Fuw3xiC"
      },
      "outputs": [],
      "source": [
        "#split test dataset into validation and test\n",
        "val_text, test_text, val_labels, test_labels = train_test_split(test_single[0], test_single[1], \n",
        "                                                                random_state=2018, \n",
        "                                                                test_size=0.5, \n",
        "                                                                stratify=test_single[1])"
      ]
    },
    {
      "cell_type": "code",
      "execution_count": null,
      "metadata": {
        "colab": {
          "background_save": true
        },
        "id": "ChaeF82cXFdG"
      },
      "outputs": [],
      "source": [
        "tokens_train = tokenizer.batch_encode_plus(\n",
        "    train_single[0].values.tolist(),\n",
        "    max_length = max_seq_len,\n",
        "    padding = True,\n",
        "    truncation=True,\n",
        "    return_token_type_ids=False\n",
        ")\n",
        "\n",
        "tokens_val = tokenizer.batch_encode_plus(\n",
        "    val_text.tolist(),\n",
        "    max_length = max_seq_len,\n",
        "    padding = True,\n",
        "    truncation=True,\n",
        "    return_token_type_ids=False\n",
        ")\n",
        "\n",
        "# tokenize and encode sequences in the test set\n",
        "tokens_test = tokenizer.batch_encode_plus(\n",
        "    test_text.tolist(),\n",
        "    max_length = max_seq_len,\n",
        "    padding = True,\n",
        "    truncation=True,\n",
        "    return_token_type_ids=False\n",
        ")"
      ]
    },
    {
      "cell_type": "code",
      "execution_count": null,
      "metadata": {
        "colab": {
          "background_save": true
        },
        "id": "OFUt3n_82tCO"
      },
      "outputs": [],
      "source": [
        "# for train set\n",
        "train_seq = torch.tensor(tokens_train['input_ids'])\n",
        "train_mask = torch.tensor(tokens_train['attention_mask'])\n",
        "train_y = torch.tensor(train_single[1].values.tolist())\n",
        "\n",
        "# for validation set\n",
        "val_seq = torch.tensor(tokens_val['input_ids'])\n",
        "val_mask = torch.tensor(tokens_val['attention_mask'])\n",
        "val_y = torch.tensor(val_labels.tolist())\n",
        "\n",
        "# for test set\n",
        "test_seq = torch.tensor(tokens_test['input_ids'])\n",
        "test_mask = torch.tensor(tokens_test['attention_mask'])\n",
        "test_y = torch.tensor(test_labels.tolist())"
      ]
    },
    {
      "cell_type": "code",
      "execution_count": null,
      "metadata": {
        "colab": {
          "background_save": true
        },
        "id": "7JCpY68X4uqK"
      },
      "outputs": [],
      "source": [
        "from torch.utils.data import TensorDataset, DataLoader, RandomSampler, SequentialSampler\n",
        "\n",
        "#define a batch size\n",
        "batch_size = 32\n",
        "\n",
        "# wrap tensors\n",
        "train_data = TensorDataset(train_seq, train_mask, train_y)\n",
        "\n",
        "# sampler for sampling the data during training\n",
        "train_sampler = RandomSampler(train_data)\n",
        "\n",
        "# dataLoader for train set\n",
        "train_dataloader = DataLoader(train_data, sampler=train_sampler, batch_size=batch_size)\n",
        "\n",
        "# wrap tensors\n",
        "val_data = TensorDataset(val_seq, val_mask, val_y)\n",
        "\n",
        "# sampler for sampling the data during training\n",
        "val_sampler = SequentialSampler(val_data)\n",
        "\n",
        "# dataLoader for validation set\n",
        "val_dataloader = DataLoader(val_data, sampler = val_sampler, batch_size=batch_size)"
      ]
    },
    {
      "cell_type": "code",
      "execution_count": null,
      "metadata": {
        "colab": {
          "background_save": true
        },
        "id": "7IyAMueZ4vMw"
      },
      "outputs": [],
      "source": [
        "# freeze all the parameters\n",
        "for param in bert.parameters():\n",
        "    param.requires_grad = False"
      ]
    },
    {
      "cell_type": "code",
      "execution_count": null,
      "metadata": {
        "colab": {
          "background_save": true
        },
        "id": "4M8neSKvfANT"
      },
      "outputs": [],
      "source": [
        "class BERT_Arch(nn.Module):\n",
        "\n",
        "    def __init__(self, bert):\n",
        "      \n",
        "      super(BERT_Arch, self).__init__()\n",
        "\n",
        "      self.bert = bert \n",
        "      \n",
        "      # dropout layer\n",
        "      self.dropout = nn.Dropout(0.1)\n",
        "      \n",
        "      # relu activation function\n",
        "      self.relu =  nn.ReLU()\n",
        "\n",
        "      # dense layer 1\n",
        "      self.fc1 = nn.Linear(768,512)\n",
        "      \n",
        "      # dense layer 2 (Output layer)\n",
        "      self.fc2 = nn.Linear(512,2)\n",
        "\n",
        "      #softmax activation function\n",
        "      self.softmax = nn.LogSoftmax(dim=1)\n",
        "\n",
        "    #define the forward pass\n",
        "    def forward(self, sent_id, mask):\n",
        "\n",
        "      #pass the inputs to the model  \n",
        "      _, cls_hs = self.bert(sent_id, attention_mask=mask)\n",
        "      \n",
        "      x = self.fc1(cls_hs)\n",
        "\n",
        "      x = self.relu(x)\n",
        "\n",
        "      x = self.dropout(x)\n",
        "\n",
        "      # output layer\n",
        "      x = self.fc2(x)\n",
        "      \n",
        "      # apply softmax activation\n",
        "      x = self.softmax(x)\n",
        "\n",
        "      return x"
      ]
    },
    {
      "cell_type": "code",
      "execution_count": null,
      "metadata": {
        "colab": {
          "background_save": true
        },
        "id": "Xjd-wb9WdKD0"
      },
      "outputs": [],
      "source": [
        "model = BERT_Arch(bert)\n",
        "\n",
        "# push the model to GPU\n",
        "model = model.to(device)"
      ]
    },
    {
      "cell_type": "code",
      "execution_count": null,
      "metadata": {
        "colab": {
          "background_save": true
        },
        "id": "GjHhvsFa4-13"
      },
      "outputs": [],
      "source": [
        "# optimizer from hugging face transformers\n",
        "from transformers import AdamW\n",
        "\n",
        "# define the optimizer\n",
        "optimizer = AdamW(model.parameters(), lr = 1e-3)"
      ]
    },
    {
      "cell_type": "code",
      "execution_count": null,
      "metadata": {
        "colab": {
          "background_save": true,
          "base_uri": "https://localhost:8080/"
        },
        "id": "SXXQjuyCAtHu",
        "outputId": "75347111-7e4b-4038-fea3-059ca876c1a5"
      },
      "outputs": [
        {
          "name": "stdout",
          "output_type": "stream",
          "text": [
            "[1.43544817 0.76725158]\n"
          ]
        }
      ],
      "source": [
        "from sklearn.utils.class_weight import compute_class_weight\n",
        "train_labels = train_single[1].values\n",
        "train_labels = pd.Series(train_labels)\n",
        "#compute the class weights\n",
        "\n",
        "class_weights = compute_class_weight(\n",
        "                                        class_weight = \"balanced\",\n",
        "                                        classes = np.unique(train_labels),\n",
        "                                        y = train_labels                                                    \n",
        "                                    )\n",
        "#class_weights = dict(zip(np.unique(train_labels), class_weights)),\n",
        "print(class_weights)"
      ]
    },
    {
      "cell_type": "code",
      "execution_count": null,
      "metadata": {
        "colab": {
          "background_save": true
        },
        "id": "cjkeFnytAwRO"
      },
      "outputs": [],
      "source": [
        "# convert class weights to tensor\n",
        "weights= torch.tensor(class_weights,dtype=torch.float)\n",
        "weights = weights.to(device)\n",
        "\n",
        "# loss function\n",
        "cross_entropy  = nn.NLLLoss(weight=weights) \n",
        "\n",
        "# number of training epochs\n",
        "epochs = 15"
      ]
    },
    {
      "cell_type": "code",
      "execution_count": null,
      "metadata": {
        "colab": {
          "background_save": true
        },
        "id": "KdgAbeKLCCpu"
      },
      "outputs": [],
      "source": [
        "# function to train the model\n",
        "def train():\n",
        "  \n",
        "  model.train()\n",
        "\n",
        "  total_loss, total_accuracy = 0, 0\n",
        "  \n",
        "  # empty list to save model predictions\n",
        "  total_preds=[]\n",
        "  \n",
        "  # iterate over batches\n",
        "  for step,batch in enumerate(train_dataloader):\n",
        "    \n",
        "    # progress update after every 50 batches.\n",
        "    if step % 50 == 0 and not step == 0:\n",
        "      print('  Batch {:>5,}  of  {:>5,}.'.format(step, len(train_dataloader)))\n",
        "\n",
        "    # push the batch to gpu\n",
        "    batch = [r.to(device) for r in batch]\n",
        " \n",
        "    sent_id, mask, labels = batch\n",
        "\n",
        "    # clear previously calculated gradients \n",
        "    model.zero_grad()        \n",
        "\n",
        "    # get model predictions for the current batch\n",
        "    preds = model(sent_id, mask)\n",
        "\n",
        "    # compute the loss between actual and predicted values\n",
        "    loss = cross_entropy(preds, labels)\n",
        "\n",
        "    # add on to the total loss\n",
        "    total_loss = total_loss + loss.item()\n",
        "\n",
        "    # backward pass to calculate the gradients\n",
        "    loss.backward()\n",
        "\n",
        "    # clip the the gradients to 1.0. It helps in preventing the exploding gradient problem\n",
        "    torch.nn.utils.clip_grad_norm_(model.parameters(), 1.0)\n",
        "\n",
        "    # update parameters\n",
        "    optimizer.step()\n",
        "\n",
        "    # model predictions are stored on GPU. So, push it to CPU\n",
        "    preds=preds.detach().cpu().numpy()\n",
        "\n",
        "    # append the model predictions\n",
        "    total_preds.append(preds)\n",
        "\n",
        "  # compute the training loss of the epoch\n",
        "  avg_loss = total_loss / len(train_dataloader)\n",
        "  \n",
        "  # predictions are in the form of (no. of batches, size of batch, no. of classes).\n",
        "  # reshape the predictions in form of (number of samples, no. of classes)\n",
        "  total_preds  = np.concatenate(total_preds, axis=0)\n",
        "\n",
        "  #returns the loss and predictions\n",
        "  return avg_loss, total_preds"
      ]
    },
    {
      "cell_type": "code",
      "execution_count": null,
      "metadata": {
        "colab": {
          "background_save": true
        },
        "id": "EJVBmM0OCE6d"
      },
      "outputs": [],
      "source": [
        "def evaluate():\n",
        "  \n",
        "  print(\"\\nEvaluating...\")\n",
        "  \n",
        "  # deactivate dropout layers\n",
        "  model.eval()\n",
        "\n",
        "  total_loss, total_accuracy = 0, 0\n",
        "  \n",
        "  # empty list to save the model predictions\n",
        "  total_preds = []\n",
        "\n",
        "  # iterate over batches\n",
        "  for step,batch in enumerate(val_dataloader):\n",
        "    \n",
        "    # Progress update every 50 batches.\n",
        "    if step % 50 == 0 and not step == 0:\n",
        "      \n",
        "      # Calculate elapsed time in minutes.\n",
        "      elapsed = format_time(time.time() - t0)\n",
        "            \n",
        "      # Report progress.\n",
        "      print('  Batch {:>5,}  of  {:>5,}.'.format(step, len(val_dataloader)))\n",
        "\n",
        "    # push the batch to gpu\n",
        "    batch = [t.to(device) for t in batch]\n",
        "\n",
        "    sent_id, mask, labels = batch\n",
        "\n",
        "    # deactivate autograd\n",
        "    with torch.no_grad():\n",
        "      \n",
        "      # model predictions\n",
        "      preds = model(sent_id, mask)\n",
        "\n",
        "      # compute the validation loss between actual and predicted values\n",
        "      loss = cross_entropy(preds,labels)\n",
        "\n",
        "      total_loss = total_loss + loss.item()\n",
        "\n",
        "      preds = preds.detach().cpu().numpy()\n",
        "\n",
        "      total_preds.append(preds)\n",
        "\n",
        "  # compute the validation loss of the epoch\n",
        "  avg_loss = total_loss / len(val_dataloader) \n",
        "\n",
        "  # reshape the predictions in form of (number of samples, no. of classes)\n",
        "  total_preds  = np.concatenate(total_preds, axis=0)\n",
        "\n",
        "  return avg_loss, total_preds"
      ]
    },
    {
      "cell_type": "code",
      "execution_count": null,
      "metadata": {
        "colab": {
          "base_uri": "https://localhost:8080/"
        },
        "id": "B0WpOzLwCG1P",
        "outputId": "fdef73ba-8f76-4c66-8fdc-38d7dbb866e5"
      },
      "outputs": [
        {
          "name": "stdout",
          "output_type": "stream",
          "text": [
            "\n",
            " Epoch 1 / 15\n",
            "  Batch    50  of    730.\n",
            "  Batch   100  of    730.\n",
            "  Batch   150  of    730.\n",
            "  Batch   200  of    730.\n",
            "  Batch   250  of    730.\n",
            "  Batch   300  of    730.\n",
            "  Batch   350  of    730.\n",
            "  Batch   400  of    730.\n",
            "  Batch   450  of    730.\n",
            "  Batch   500  of    730.\n",
            "  Batch   550  of    730.\n",
            "  Batch   600  of    730.\n",
            "  Batch   650  of    730.\n",
            "  Batch   700  of    730.\n",
            "\n",
            "Evaluating...\n",
            "\n",
            "Training Loss: 0.613\n",
            "Validation Loss: 0.500\n",
            "\n",
            " Epoch 2 / 15\n",
            "  Batch    50  of    730.\n",
            "  Batch   100  of    730.\n",
            "  Batch   150  of    730.\n",
            "  Batch   200  of    730.\n",
            "  Batch   250  of    730.\n",
            "  Batch   300  of    730.\n",
            "  Batch   350  of    730.\n",
            "  Batch   400  of    730.\n",
            "  Batch   450  of    730.\n",
            "  Batch   500  of    730.\n",
            "  Batch   550  of    730.\n",
            "  Batch   600  of    730.\n",
            "  Batch   650  of    730.\n",
            "  Batch   700  of    730.\n",
            "\n",
            "Evaluating...\n",
            "\n",
            "Training Loss: 0.553\n",
            "Validation Loss: 0.462\n",
            "\n",
            " Epoch 3 / 15\n",
            "  Batch    50  of    730.\n",
            "  Batch   100  of    730.\n",
            "  Batch   150  of    730.\n",
            "  Batch   200  of    730.\n",
            "  Batch   250  of    730.\n",
            "  Batch   300  of    730.\n",
            "  Batch   350  of    730.\n",
            "  Batch   400  of    730.\n",
            "  Batch   450  of    730.\n",
            "  Batch   500  of    730.\n",
            "  Batch   550  of    730.\n",
            "  Batch   600  of    730.\n",
            "  Batch   650  of    730.\n",
            "  Batch   700  of    730.\n",
            "\n",
            "Evaluating...\n",
            "\n",
            "Training Loss: 0.519\n",
            "Validation Loss: 0.477\n",
            "\n",
            " Epoch 4 / 15\n",
            "  Batch    50  of    730.\n",
            "  Batch   100  of    730.\n",
            "  Batch   150  of    730.\n",
            "  Batch   200  of    730.\n",
            "  Batch   250  of    730.\n",
            "  Batch   300  of    730.\n",
            "  Batch   350  of    730.\n",
            "  Batch   400  of    730.\n",
            "  Batch   450  of    730.\n",
            "  Batch   500  of    730.\n",
            "  Batch   550  of    730.\n",
            "  Batch   600  of    730.\n",
            "  Batch   650  of    730.\n",
            "  Batch   700  of    730.\n",
            "\n",
            "Evaluating...\n",
            "\n",
            "Training Loss: 0.518\n",
            "Validation Loss: 0.469\n",
            "\n",
            " Epoch 5 / 15\n",
            "  Batch    50  of    730.\n",
            "  Batch   100  of    730.\n",
            "  Batch   150  of    730.\n",
            "  Batch   200  of    730.\n",
            "  Batch   250  of    730.\n",
            "  Batch   300  of    730.\n",
            "  Batch   350  of    730.\n",
            "  Batch   400  of    730.\n",
            "  Batch   450  of    730.\n",
            "  Batch   500  of    730.\n",
            "  Batch   550  of    730.\n",
            "  Batch   600  of    730.\n",
            "  Batch   650  of    730.\n",
            "  Batch   700  of    730.\n",
            "\n",
            "Evaluating...\n",
            "\n",
            "Training Loss: 0.505\n",
            "Validation Loss: 0.432\n",
            "\n",
            " Epoch 6 / 15\n",
            "  Batch    50  of    730.\n",
            "  Batch   100  of    730.\n",
            "  Batch   150  of    730.\n",
            "  Batch   200  of    730.\n",
            "  Batch   250  of    730.\n",
            "  Batch   300  of    730.\n",
            "  Batch   350  of    730.\n",
            "  Batch   400  of    730.\n",
            "  Batch   450  of    730.\n",
            "  Batch   500  of    730.\n",
            "  Batch   550  of    730.\n",
            "  Batch   600  of    730.\n",
            "  Batch   650  of    730.\n",
            "  Batch   700  of    730.\n",
            "\n",
            "Evaluating...\n",
            "\n",
            "Training Loss: 0.507\n",
            "Validation Loss: 0.458\n",
            "\n",
            " Epoch 7 / 15\n",
            "  Batch    50  of    730.\n",
            "  Batch   100  of    730.\n",
            "  Batch   150  of    730.\n",
            "  Batch   200  of    730.\n",
            "  Batch   250  of    730.\n",
            "  Batch   300  of    730.\n",
            "  Batch   350  of    730.\n",
            "  Batch   400  of    730.\n",
            "  Batch   450  of    730.\n",
            "  Batch   500  of    730.\n",
            "  Batch   550  of    730.\n",
            "  Batch   600  of    730.\n",
            "  Batch   650  of    730.\n",
            "  Batch   700  of    730.\n",
            "\n",
            "Evaluating...\n",
            "\n",
            "Training Loss: 0.497\n",
            "Validation Loss: 0.431\n",
            "\n",
            " Epoch 8 / 15\n",
            "  Batch    50  of    730.\n",
            "  Batch   100  of    730.\n",
            "  Batch   150  of    730.\n",
            "  Batch   200  of    730.\n",
            "  Batch   250  of    730.\n",
            "  Batch   300  of    730.\n",
            "  Batch   350  of    730.\n",
            "  Batch   400  of    730.\n",
            "  Batch   450  of    730.\n",
            "  Batch   500  of    730.\n",
            "  Batch   550  of    730.\n",
            "  Batch   600  of    730.\n",
            "  Batch   650  of    730.\n",
            "  Batch   700  of    730.\n",
            "\n",
            "Evaluating...\n",
            "\n",
            "Training Loss: 0.496\n",
            "Validation Loss: 0.469\n",
            "\n",
            " Epoch 9 / 15\n",
            "  Batch    50  of    730.\n",
            "  Batch   100  of    730.\n",
            "  Batch   150  of    730.\n",
            "  Batch   200  of    730.\n",
            "  Batch   250  of    730.\n",
            "  Batch   300  of    730.\n",
            "  Batch   350  of    730.\n",
            "  Batch   400  of    730.\n",
            "  Batch   450  of    730.\n",
            "  Batch   500  of    730.\n",
            "  Batch   550  of    730.\n",
            "  Batch   600  of    730.\n",
            "  Batch   650  of    730.\n",
            "  Batch   700  of    730.\n",
            "\n",
            "Evaluating...\n",
            "\n",
            "Training Loss: 0.493\n",
            "Validation Loss: 0.435\n",
            "\n",
            " Epoch 10 / 15\n",
            "  Batch    50  of    730.\n",
            "  Batch   100  of    730.\n",
            "  Batch   150  of    730.\n",
            "  Batch   200  of    730.\n",
            "  Batch   250  of    730.\n",
            "  Batch   300  of    730.\n",
            "  Batch   350  of    730.\n",
            "  Batch   400  of    730.\n",
            "  Batch   450  of    730.\n",
            "  Batch   500  of    730.\n",
            "  Batch   550  of    730.\n",
            "  Batch   600  of    730.\n",
            "  Batch   650  of    730.\n",
            "  Batch   700  of    730.\n",
            "\n",
            "Evaluating...\n",
            "\n",
            "Training Loss: 0.494\n",
            "Validation Loss: 0.443\n",
            "\n",
            " Epoch 11 / 15\n",
            "  Batch    50  of    730.\n",
            "  Batch   100  of    730.\n",
            "  Batch   150  of    730.\n",
            "  Batch   200  of    730.\n",
            "  Batch   250  of    730.\n",
            "  Batch   300  of    730.\n",
            "  Batch   350  of    730.\n",
            "  Batch   400  of    730.\n",
            "  Batch   450  of    730.\n",
            "  Batch   500  of    730.\n",
            "  Batch   550  of    730.\n",
            "  Batch   600  of    730.\n",
            "  Batch   650  of    730.\n",
            "  Batch   700  of    730.\n",
            "\n",
            "Evaluating...\n",
            "\n",
            "Training Loss: 0.490\n",
            "Validation Loss: 0.429\n",
            "\n",
            " Epoch 12 / 15\n",
            "  Batch    50  of    730.\n",
            "  Batch   100  of    730.\n",
            "  Batch   150  of    730.\n",
            "  Batch   200  of    730.\n",
            "  Batch   250  of    730.\n",
            "  Batch   300  of    730.\n",
            "  Batch   350  of    730.\n",
            "  Batch   400  of    730.\n",
            "  Batch   450  of    730.\n",
            "  Batch   500  of    730.\n",
            "  Batch   550  of    730.\n",
            "  Batch   600  of    730.\n",
            "  Batch   650  of    730.\n",
            "  Batch   700  of    730.\n",
            "\n",
            "Evaluating...\n",
            "\n",
            "Training Loss: 0.489\n",
            "Validation Loss: 0.434\n",
            "\n",
            " Epoch 13 / 15\n",
            "  Batch    50  of    730.\n",
            "  Batch   100  of    730.\n",
            "  Batch   150  of    730.\n",
            "  Batch   200  of    730.\n",
            "  Batch   250  of    730.\n",
            "  Batch   300  of    730.\n",
            "  Batch   350  of    730.\n",
            "  Batch   400  of    730.\n",
            "  Batch   450  of    730.\n",
            "  Batch   500  of    730.\n",
            "  Batch   550  of    730.\n",
            "  Batch   600  of    730.\n",
            "  Batch   650  of    730.\n",
            "  Batch   700  of    730.\n",
            "\n",
            "Evaluating...\n",
            "\n",
            "Training Loss: 0.483\n",
            "Validation Loss: 0.423\n",
            "\n",
            " Epoch 14 / 15\n",
            "  Batch    50  of    730.\n",
            "  Batch   100  of    730.\n",
            "  Batch   150  of    730.\n",
            "  Batch   200  of    730.\n",
            "  Batch   250  of    730.\n",
            "  Batch   300  of    730.\n",
            "  Batch   350  of    730.\n",
            "  Batch   400  of    730.\n",
            "  Batch   450  of    730.\n",
            "  Batch   500  of    730.\n",
            "  Batch   550  of    730.\n",
            "  Batch   600  of    730.\n",
            "  Batch   650  of    730.\n",
            "  Batch   700  of    730.\n",
            "\n",
            "Evaluating...\n",
            "\n",
            "Training Loss: 0.481\n",
            "Validation Loss: 0.445\n",
            "\n",
            " Epoch 15 / 15\n",
            "  Batch    50  of    730.\n",
            "  Batch   100  of    730.\n",
            "  Batch   150  of    730.\n",
            "  Batch   200  of    730.\n",
            "  Batch   250  of    730.\n",
            "  Batch   300  of    730.\n",
            "  Batch   350  of    730.\n",
            "  Batch   400  of    730.\n",
            "  Batch   450  of    730.\n",
            "  Batch   500  of    730.\n",
            "  Batch   550  of    730.\n",
            "  Batch   600  of    730.\n",
            "  Batch   650  of    730.\n",
            "  Batch   700  of    730.\n",
            "\n",
            "Evaluating...\n"
          ]
        }
      ],
      "source": [
        "# set initial loss to infinite\n",
        "best_valid_loss = float('inf')\n",
        "\n",
        "# empty lists to store training and validation loss of each epoch\n",
        "train_losses=[]\n",
        "valid_losses=[]\n",
        "\n",
        "#for each epoch\n",
        "for epoch in range(epochs):\n",
        "     \n",
        "    print('\\n Epoch {:} / {:}'.format(epoch + 1, epochs))\n",
        "    \n",
        "    #train model\n",
        "    train_loss, _ = train()\n",
        "    \n",
        "    #evaluate model\n",
        "    valid_loss, _ = evaluate()\n",
        "    \n",
        "    #save the best model\n",
        "    if valid_loss < best_valid_loss:\n",
        "        best_valid_loss = valid_loss\n",
        "        torch.save(model.state_dict(), 'saved_weights.pt')\n",
        "    \n",
        "    # append training and validation loss\n",
        "    train_losses.append(train_loss)\n",
        "    valid_losses.append(valid_loss)\n",
        "    \n",
        "    print(f'\\nTraining Loss: {train_loss:.3f}')\n",
        "    print(f'Validation Loss: {valid_loss:.3f}')"
      ]
    },
    {
      "cell_type": "code",
      "execution_count": null,
      "metadata": {
        "id": "jQkVNbm_COWd"
      },
      "outputs": [],
      "source": [
        "torch.save(model, \"/content/model.pt\")"
      ]
    },
    {
      "cell_type": "code",
      "execution_count": null,
      "metadata": {
        "id": "ffyVSfE0kOCT"
      },
      "outputs": [],
      "source": [
        "path = '/content/saved_weights.pt'\n",
        "model.load_state_dict(torch.load(path))"
      ]
    },
    {
      "cell_type": "code",
      "execution_count": null,
      "metadata": {
        "id": "tQk46akfnGOG"
      },
      "outputs": [],
      "source": [
        "with torch.no_grad():\n",
        "  preds = model(test_seq.to(device), test_mask.to(device))\n",
        "  preds = preds.detach().cpu().numpy()"
      ]
    },
    {
      "cell_type": "code",
      "execution_count": null,
      "metadata": {
        "id": "V6m-KrWPnIQe"
      },
      "outputs": [],
      "source": [
        "preds = np.argmax(preds, axis = 1)\n",
        "print(classification_report(test_y, preds))"
      ]
    }
  ],
  "metadata": {
    "accelerator": "GPU",
    "colab": {
      "collapsed_sections": [],
      "name": "DSMAv2 - Goemotions.ipynb",
      "provenance": [],
      "authorship_tag": "ABX9TyNZEL24L01kLNB/PgufZ460",
      "include_colab_link": true
    },
    "kernelspec": {
      "display_name": "Python 3",
      "name": "python3"
    },
    "language_info": {
      "name": "python"
    }
  },
  "nbformat": 4,
  "nbformat_minor": 0
}